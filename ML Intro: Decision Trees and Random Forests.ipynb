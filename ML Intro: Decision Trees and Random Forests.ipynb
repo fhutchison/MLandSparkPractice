{
 "cells": [
  {
   "cell_type": "code",
   "execution_count": 0,
   "metadata": {
    "application/vnd.databricks.v1+cell": {
     "cellMetadata": {
      "byteLimit": 2048000,
      "rowLimit": 10000
     },
     "inputWidgets": {},
     "nuid": "c3e1fb2f-59b6-48e4-9b6f-7373d1ccdcde",
     "showTitle": false,
     "tableResultSettingsMap": {},
     "title": ""
    }
   },
   "outputs": [],
   "source": [
    "import pandas as pd\n",
    "file_path= \"/Workspace/Repos/mrfrankhutch04@gmail.com/codingpractice/Data File Storage/train.csv\"\n",
    "home_data = pd.read_csv(file_path)\n",
    "home_data.describe()"
   ]
  },
  {
   "cell_type": "code",
   "execution_count": 0,
   "metadata": {
    "application/vnd.databricks.v1+cell": {
     "cellMetadata": {
      "byteLimit": 2048000,
      "rowLimit": 10000
     },
     "inputWidgets": {},
     "nuid": "e56512c5-0400-4613-bb38-c147c991122c",
     "showTitle": false,
     "tableResultSettingsMap": {},
     "title": ""
    }
   },
   "outputs": [],
   "source": [
    "home_data.columns"
   ]
  },
  {
   "cell_type": "code",
   "execution_count": 0,
   "metadata": {
    "application/vnd.databricks.v1+cell": {
     "cellMetadata": {
      "byteLimit": 2048000,
      "rowLimit": 10000
     },
     "inputWidgets": {},
     "nuid": "aa30643a-4d02-472e-9d1f-5a74aac97b38",
     "showTitle": false,
     "tableResultSettingsMap": {},
     "title": ""
    }
   },
   "outputs": [],
   "source": [
    "#Call Data\n",
    "home_data.columns\n",
    "\n",
    "y = home_data.SalePrice\n",
    "\n",
    "# Create the list of features below\n",
    "feature_names = ['LotArea', 'YearBuilt', '1stFlrSF', '2ndFlrSF', 'FullBath', 'BedroomAbvGr', 'TotRmsAbvGrd']\n",
    "\n",
    "# Select data corresponding to features in feature_names\n",
    "X = home_data[feature_names]\n",
    "\n",
    "from sklearn.tree import DecisionTreeRegressor\n",
    "\n",
    "# Define model. Specify a number for random_state to ensure same results each run\n",
    "melbourne_model = DecisionTreeRegressor(random_state=1)\n",
    "\n",
    "# Fit model\n",
    "melbourne_model.fit(X, y)"
   ]
  },
  {
   "cell_type": "code",
   "execution_count": 0,
   "metadata": {
    "application/vnd.databricks.v1+cell": {
     "cellMetadata": {
      "byteLimit": 2048000,
      "rowLimit": 10000
     },
     "inputWidgets": {},
     "nuid": "31d188e1-5323-4247-a719-1074b8e71a05",
     "showTitle": false,
     "tableResultSettingsMap": {},
     "title": ""
    }
   },
   "outputs": [],
   "source": [
    "from sklearn.tree import DecisionTreeRegressor\n",
    "\n",
    "# Define model. Specify a number for random_state to ensure same results each run\n",
    "iowa_model = DecisionTreeRegressor(random_state=1)\n",
    "\n",
    "# Fit model\n",
    "iowa_model.fit(X, y)\n",
    "\n",
    "#Predict\n",
    "predictions = iowa_model.predict(X)\n",
    "\n",
    "print(predictions[:5])\n",
    "print(y.head())"
   ]
  },
  {
   "cell_type": "code",
   "execution_count": 0,
   "metadata": {
    "application/vnd.databricks.v1+cell": {
     "cellMetadata": {
      "byteLimit": 2048000,
      "rowLimit": 10000
     },
     "inputWidgets": {},
     "nuid": "73dea88e-d9f6-454d-af1f-4a74575c6874",
     "showTitle": false,
     "tableResultSettingsMap": {},
     "title": ""
    }
   },
   "outputs": [],
   "source": [
    "# Import the train_test_split function and uncomment\n",
    "from sklearn.model_selection import train_test_split\n",
    "\n",
    "# fill in and uncomment\n",
    "train_X, val_X, train_y, val_y = train_test_split(X, y, random_state=1)\n",
    "\n",
    "# Specify the model\n",
    "iowa_model = DecisionTreeRegressor(random_state=1)\n",
    "\n",
    "# Fit iowa_model with the training data.\n",
    "iowa_fit = iowa_model.fit(train_X, train_y)\n",
    "\n",
    "# Predict with all validation observations\n",
    "val_predictions = iowa_fit.predict(val_X)\n",
    "\n",
    "# print the top few validation predictions\n",
    "print(val_predictions[:5])\n",
    "# print the top few actual prices from validation data\n",
    "print(val_y[:5])\n",
    "\n",
    "from sklearn.metrics import mean_absolute_error\n",
    "val_mae = mean_absolute_error(val_y, val_predictions)\n",
    "\n",
    "# uncomment following line to see the validation_mae\n",
    "print(val_mae)\n"
   ]
  },
  {
   "cell_type": "code",
   "execution_count": 0,
   "metadata": {
    "application/vnd.databricks.v1+cell": {
     "cellMetadata": {
      "byteLimit": 2048000,
      "rowLimit": 10000
     },
     "inputWidgets": {},
     "nuid": "f800e77f-7269-4204-b63f-7233946dbae3",
     "showTitle": false,
     "tableResultSettingsMap": {},
     "title": ""
    }
   },
   "outputs": [],
   "source": [
    "\n",
    "#Best Random Forest Model with Cross Validation and Multiple Evaluation Metrics\n",
    "from sklearn.ensemble import RandomForestRegressor\n",
    "from sklearn.model_selection import cross_val_score\n",
    "import numpy as np\n",
    "\n",
    "def best_model(leaf_nodes, X, y):\n",
    "    train_X, test_X, train_y, test_y = train_test_split(X, y, test_size=0.2, random_state=0)\n",
    "    best_model = {'leaf_nodes': None, 'neg_mean_squared_error': float('inf'), \n",
    "                  'neg_root_mean_squared_error': float('inf'), 'neg_mean_absolute_error': float('inf')}\n",
    "    metrics= {}\n",
    "    for leaf in leaf_nodes:\n",
    "        metrics[leaf]={'neg_mean_squared_error':0 , 'neg_root_mean_squared_error':0, 'neg_mean_absolute_error':0}\n",
    "        model = RandomForestRegressor(max_leaf_nodes=leaf, n_estimators=100, random_state=0) #100 is default number of trees\n",
    "        for metric in metrics[leaf].keys():\n",
    "            scores = cross_val_score(model, train_X, train_y, cv=5, scoring=metric)\n",
    "            metrics[leaf][metric] = -scores.mean()\n",
    "        c=0\n",
    "        if metrics[leaf]['neg_mean_absolute_error'] < best_model['neg_mean_absolute_error']:\n",
    "            c+=1\n",
    "        if metrics[leaf]['neg_root_mean_squared_error'] < best_model['neg_root_mean_squared_error']:\n",
    "            c+=1\n",
    "        if metrics[leaf]['neg_mean_squared_error'] < best_model['neg_mean_squared_error']:\n",
    "            c+=1\n",
    "        if c>=2:\n",
    "            best_model['leaf_nodes']=leaf\n",
    "            best_model['neg_mean_squared_error']=metrics[leaf]['neg_mean_squared_error']\n",
    "            best_model['neg_root_mean_squared_error']=metrics[leaf]['neg_root_mean_squared_error']\n",
    "            best_model['neg_mean_absolute_error']=metrics[leaf]['neg_mean_absolute_error']\n",
    "\n",
    "    final_model = RandomForestRegressor(max_leaf_nodes=best_model['leaf_nodes'], random_state=0)\n",
    "    final_model.fit(X, y)\n",
    "    return best_model, final_model\n",
    "\n",
    "# General guidelines:\n",
    "# Small datasets (< 1000 rows): Step of 10-25, max around 100-500 leaf nodes\n",
    "# Medium datasets (1000-10000 rows): Step of 25-50, max around 500-1000\n",
    "# Large datasets (> 10000 rows): Step of 50-100, max around 1000-5000\n",
    "#len(home_data)\n",
    "\n",
    "leaf_nodes = np.arange(10, 1000, 25)\n",
    "best_model, final_model = best_model(leaf_nodes, X, y)\n",
    "print(best_model)\n",
    "        "
   ]
  },
  {
   "cell_type": "code",
   "execution_count": 0,
   "metadata": {
    "application/vnd.databricks.v1+cell": {
     "cellMetadata": {
      "byteLimit": 2048000,
      "rowLimit": 10000
     },
     "inputWidgets": {},
     "nuid": "43ddae7d-e19b-4d61-8384-3bd3c9038b4b",
     "showTitle": false,
     "tableResultSettingsMap": {},
     "title": ""
    }
   },
   "outputs": [],
   "source": [
    "#Random Forest Tuners besides max_leaf_nodes\n",
    "# Try tuning these:\n",
    "# - n_estimators: [50, 100, 200, 300]  # Number of trees\n",
    "# - max_depth: [10, 20, 30, None]      # How deep each tree can go\n",
    "# - min_samples_split: [2, 5, 10]      # Min samples to split a node\n",
    "# - min_samples_leaf: [1, 2, 4]        # Min samples in a leaf\n",
    "\n",
    "\n",
    "#Analysis of Model for Housing Prices\n",
    "# What's the average house price?\n",
    "print(f\"Average price: ${y.mean():,.0f}\")\n",
    "\n",
    "# What's the range?\n",
    "print(f\"Price range: ${y.min():,.0f} to ${y.max():,.0f}\")\n",
    "\n",
    "# MAE as a percentage (want <=10%)\n",
    "print(f\"MAE is {(22836 / y.mean()) * 100:.1f}% of average price\")"
   ]
  },
  {
   "cell_type": "code",
   "execution_count": 0,
   "metadata": {
    "application/vnd.databricks.v1+cell": {
     "cellMetadata": {},
     "inputWidgets": {},
     "nuid": "1f9602e4-4a9f-4ca2-b737-a8fe9af2fc45",
     "showTitle": false,
     "tableResultSettingsMap": {},
     "title": ""
    }
   },
   "outputs": [],
   "source": []
  }
 ],
 "metadata": {
  "application/vnd.databricks.v1+notebook": {
   "computePreferences": {
    "hardware": {
     "accelerator": null,
     "gpuPoolId": null,
     "memory": null
    }
   },
   "dashboards": [],
   "environmentMetadata": {
    "base_environment": "",
    "environment_version": "3"
   },
   "inputWidgetPreferences": null,
   "language": "python",
   "notebookMetadata": {
    "pythonIndentUnit": 4
   },
   "notebookName": "ML Intro: Decision Trees and Random Forests",
   "widgets": {}
  },
  "language_info": {
   "name": "python"
  }
 },
 "nbformat": 4,
 "nbformat_minor": 0
}
