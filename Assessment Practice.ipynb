{
 "cells": [
  {
   "cell_type": "code",
   "execution_count": 0,
   "metadata": {
    "application/vnd.databricks.v1+cell": {
     "cellMetadata": {},
     "inputWidgets": {},
     "nuid": "1566d85f-2a6f-44bf-97a1-31efd0ed4a45",
     "showTitle": false,
     "tableResultSettingsMap": {},
     "title": ""
    }
   },
   "outputs": [],
   "source": [
    "%sql\n",
    "WITH date_diffs AS (\n",
    "    SELECT \n",
    "        user_id,\n",
    "        purchase_date,\n",
    "        LAG(purchase_date, 1) OVER (PARTITION BY user_id ORDER BY purchase_date) AS prev_date_1,\n",
    "        LAG(purchase_date, 2) OVER (PARTITION BY user_id ORDER BY purchase_date) AS prev_date_2\n",
    "    FROM (\n",
    "        SELECT DISTINCT user_id, purchase_date  -- Remove duplicates on same day\n",
    "        FROM purchases\n",
    "    ) distinct_purchases\n",
    ")\n",
    "SELECT DISTINCT user_id\n",
    "FROM date_diffs\n",
    "WHERE \n",
    "    DATEDIFF(day, prev_date_2, prev_date_1) = 1\n",
    "    AND DATEDIFF(day, prev_date_1, purchase_date) = 1;\n"
   ]
  },
  {
   "cell_type": "code",
   "execution_count": 0,
   "metadata": {
    "application/vnd.databricks.v1+cell": {
     "cellMetadata": {},
     "inputWidgets": {},
     "nuid": "ac3bf0dc-0f0e-4234-a86a-2e093332f2f9",
     "showTitle": false,
     "tableResultSettingsMap": {},
     "title": ""
    }
   },
   "outputs": [],
   "source": [
    "%sql\n",
    "WITH monthly_revenue AS (\n",
    "    SELECT\n",
    "        product_category,\n",
    "        DATE_TRUNC('month', sale_date) AS month,  -- or DATE_FORMAT depending on your SQL dialect\n",
    "        SUM(revenue) AS monthly_revenue\n",
    "    FROM sales\n",
    "    GROUP BY product_category, DATE_TRUNC('month', sale_date)\n",
    "),\n",
    "with_previous AS (\n",
    "    SELECT\n",
    "        product_category,\n",
    "        month,\n",
    "        monthly_revenue,\n",
    "        LAG(monthly_revenue, 1) OVER (\n",
    "            PARTITION BY product_category \n",
    "            ORDER BY month\n",
    "        ) AS prev_month_revenue\n",
    "    FROM monthly_revenue\n",
    ")\n",
    "SELECT\n",
    "    product_category,\n",
    "    month,\n",
    "    monthly_revenue,\n",
    "    prev_month_revenue,\n",
    "    ROUND(\n",
    "        ((monthly_revenue - prev_month_revenue) / prev_month_revenue) * 100, \n",
    "        2\n",
    "    ) AS percent_change\n",
    "FROM with_previous\n",
    "WHERE prev_month_revenue IS NOT NULL  -- Exclude first month (no previous data)\n",
    "ORDER BY product_category, month;\n",
    "\n"
   ]
  },
  {
   "cell_type": "code",
   "execution_count": 0,
   "metadata": {
    "application/vnd.databricks.v1+cell": {
     "cellMetadata": {},
     "inputWidgets": {},
     "nuid": "7e99f616-2a3e-4241-8e6c-f01c349b1810",
     "showTitle": false,
     "tableResultSettingsMap": {},
     "title": ""
    }
   },
   "outputs": [],
   "source": [
    "%sql\n",
    "WITH depo_sal AS (\n",
    "  SELECT\n",
    "  department_id, AVG(e.salary) AS avg_salary\n",
    "  FROM employees\n",
    "  GROUP BY department_id\n",
    ")\n",
    "\n",
    "SELECT e.name, e.department_name, e.salary, ds.avg_salary\n",
    "FROM employees e\n",
    "INNER JOIN departments d\n",
    "ON e.department_id = d.department_id\n",
    "INNER JOIN depo_sal ds\n",
    "ON e.department_id = ds.department_id\n",
    "WHERE e.salary > ds.avg_salary\n",
    "ORDER BY e.salary DESC\n"
   ]
  }
 ],
 "metadata": {
  "application/vnd.databricks.v1+notebook": {
   "computePreferences": null,
   "dashboards": [],
   "environmentMetadata": {
    "base_environment": "",
    "environment_version": "4"
   },
   "inputWidgetPreferences": null,
   "language": "python",
   "notebookMetadata": {
    "pythonIndentUnit": 4
   },
   "notebookName": "Assessment Practice",
   "widgets": {}
  },
  "language_info": {
   "name": "python"
  }
 },
 "nbformat": 4,
 "nbformat_minor": 0
}
