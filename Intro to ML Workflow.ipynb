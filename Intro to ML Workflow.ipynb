{
 "cells": [
  {
   "cell_type": "markdown",
   "metadata": {
    "application/vnd.databricks.v1+cell": {
     "cellMetadata": {},
     "inputWidgets": {},
     "nuid": "26f4f02c-0713-466c-8f40-64fb0ea91245",
     "showTitle": false,
     "tableResultSettingsMap": {},
     "title": ""
    }
   },
   "source": [
    "#EDA and Feature Engineering"
   ]
  },
  {
   "cell_type": "code",
   "execution_count": 0,
   "metadata": {
    "application/vnd.databricks.v1+cell": {
     "cellMetadata": {},
     "inputWidgets": {},
     "nuid": "1e3c4f7c-e8bb-4f78-8682-138e82206e44",
     "showTitle": false,
     "tableResultSettingsMap": {},
     "title": ""
    }
   },
   "outputs": [],
   "source": [
    "# df = spark.read.table('example')\n",
    "# pdf = df.toPandas()\n",
    "'''\n",
    "Summarize\n",
    "\n",
    "dbutils.data.summarize(pdf) #Includes visuals\n",
    "\n",
    "display(df.describe())\n",
    "\n",
    "print(pdf.describe())\n",
    "\n",
    "display(df) # + and click data profile\n",
    "\n",
    "'''"
   ]
  },
  {
   "cell_type": "code",
   "execution_count": 0,
   "metadata": {
    "application/vnd.databricks.v1+cell": {
     "cellMetadata": {},
     "inputWidgets": {},
     "nuid": "afaa8a6a-b359-4b1f-a4e4-70b3f3619dfd",
     "showTitle": false,
     "tableResultSettingsMap": {},
     "title": ""
    }
   },
   "outputs": [],
   "source": [
    "from pyspark.sql import functions as F\n",
    "\n",
    "#Summary Stats\n",
    "display(df.groupBy('col').agg(\n",
    "    F.min('c1').alias('min'),\n",
    "    F.expr('percentile_approx(c1, array(0.25))')[0].alias('25%'),\n",
    "    F.mean('c1').alias('median'),\n",
    "    F.expr('percentile_approx(c1, array(0.75))')[0].alias('75%'),\n",
    "    F.max('c1').alias('max'),\n",
    "))\n",
    "#CLick + and then visualization for visual"
   ]
  },
  {
   "cell_type": "code",
   "execution_count": 0,
   "metadata": {
    "application/vnd.databricks.v1+cell": {
     "cellMetadata": {},
     "inputWidgets": {},
     "nuid": "98735e50-d967-41a4-b5a0-553eb719e80e",
     "showTitle": false,
     "tableResultSettingsMap": {},
     "title": ""
    }
   },
   "outputs": [],
   "source": [
    "feature_variables=[]\n",
    "prediction_variable=''\n",
    "primary_key=['']\n",
    "feature_df = df.select(primary_key+feature variables)"
   ]
  },
  {
   "cell_type": "markdown",
   "metadata": {
    "application/vnd.databricks.v1+cell": {
     "cellMetadata": {},
     "inputWidgets": {},
     "nuid": "0d636dfd-b72f-47a9-8e0c-c12e05b1ddeb",
     "showTitle": false,
     "tableResultSettingsMap": {},
     "title": ""
    }
   },
   "source": [
    "#MLflow"
   ]
  },
  {
   "cell_type": "code",
   "execution_count": 0,
   "metadata": {
    "application/vnd.databricks.v1+cell": {
     "cellMetadata": {},
     "inputWidgets": {},
     "nuid": "0cf2a2d8-4c3a-4057-a934-4d0e898f42ee",
     "showTitle": false,
     "tableResultSettingsMap": {},
     "title": ""
    }
   },
   "outputs": [],
   "source": [
    "mlflow.autolog()\n",
    "\n",
    "X = train_df.drop('y', axis=1)\n",
    "y = train_df['y']\n",
    "y = y.map({'Yes': 1.0, 'No': 0.0})\n",
    "\n",
    "x_train, x_test, y_train, y_test = train_test_split(X, y, test_size=.2, random_state=0)"
   ]
  },
  {
   "cell_type": "code",
   "execution_count": 0,
   "metadata": {
    "application/vnd.databricks.v1+cell": {
     "cellMetadata": {},
     "inputWidgets": {},
     "nuid": "237b73f7-ecc6-41b2-950a-60e3b637762a",
     "showTitle": false,
     "tableResultSettingsMap": {},
     "title": ""
    }
   },
   "outputs": [],
   "source": [
    "import mlflow\n",
    "import mlflow.sklearn\n",
    "\n",
    "mlflow.set_experiment(f\"file_path\")\n",
    "\n",
    "with mflow.start_run(run_name='name') as run:\n",
    "\n",
    "    model = RandomForestClassifier(n_estimators=100, max_depth=6, random_state=0)\n",
    "    model.fit(x_train, y_train)\n",
    "\n",
    "    mlflow.sklearn.autolog()\n",
    "\n",
    "    mlflow.sklearn.log_model(model, \"model\")\n",
    "    mlflow.log_metric(\"Accuracy\", model.score(x_test, y_test))\n",
    "\n",
    "    model_url = f\"path\"\n",
    "\n",
    "\n",
    "mlflow.set_registry_url('')\n",
    "\n",
    "model_name= f\"\"\n",
    "registered_model = mlflow.register_model(model_url=model_url, name=model_name)"
   ]
  },
  {
   "cell_type": "code",
   "execution_count": 0,
   "metadata": {
    "application/vnd.databricks.v1+cell": {
     "cellMetadata": {},
     "inputWidgets": {},
     "nuid": "76d84132-1b4e-4468-aebc-89eb042a597f",
     "showTitle": false,
     "tableResultSettingsMap": {},
     "title": ""
    }
   },
   "outputs": [],
   "source": [
    "from mlflow.tracking.client import MLFLowClient\n",
    "\n",
    "client=MLFLowClient()\n",
    "\n",
    "client.set_registered_model_alias(name=model_name, alias='Production', version=1)"
   ]
  },
  {
   "cell_type": "code",
   "execution_count": 0,
   "metadata": {
    "application/vnd.databricks.v1+cell": {
     "cellMetadata": {},
     "inputWidgets": {},
     "nuid": "6ba30f19-7b79-49e2-9504-bba4c0dab790",
     "showTitle": false,
     "tableResultSettingsMap": {},
     "title": ""
    }
   },
   "outputs": [],
   "source": [
    "from databricks import automl\n",
    "\n",
    "automl_run = automl.classify(dataset=df, target_col='y', exclude_cols='id', timeout_minutes=5)"
   ]
  }
 ],
 "metadata": {
  "application/vnd.databricks.v1+notebook": {
   "computePreferences": null,
   "dashboards": [],
   "environmentMetadata": {
    "base_environment": "",
    "environment_version": "3"
   },
   "inputWidgetPreferences": null,
   "language": "python",
   "notebookMetadata": {
    "pythonIndentUnit": 4
   },
   "notebookName": "Intro to ML Workflow",
   "widgets": {}
  },
  "language_info": {
   "name": "python"
  }
 },
 "nbformat": 4,
 "nbformat_minor": 0
}
